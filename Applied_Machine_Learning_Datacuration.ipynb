{
  "nbformat": 4,
  "nbformat_minor": 0,
  "metadata": {
    "colab": {
      "name": "Applied_Machine_Learning_Datacuration.ipynb",
      "provenance": [],
      "collapsed_sections": []
    },
    "kernelspec": {
      "name": "python3",
      "display_name": "Python 3"
    }
  },
  "cells": [
    {
      "cell_type": "markdown",
      "metadata": {
        "id": "SDh5A3joQ8f1"
      },
      "source": [
        "Author: Zachary Strasser and William Funkbusch\n",
        "\n",
        "Date: 11-2-2020"
      ]
    },
    {
      "cell_type": "markdown",
      "metadata": {
        "id": "dC0O8JFvQ3ve"
      },
      "source": [
        "Import necessary modules"
      ]
    },
    {
      "cell_type": "code",
      "metadata": {
        "id": "2cnyjD_UlQM9"
      },
      "source": [
        "import pandas as pd\n",
        "import numpy as np\n",
        "import itertools\n",
        "import math as m\n",
        "from matplotlib import pyplot as plt"
      ],
      "execution_count": 1,
      "outputs": []
    },
    {
      "cell_type": "markdown",
      "metadata": {
        "id": "vbBYlT0WnRTE"
      },
      "source": [
        "Read tsv file from BindingDB website"
      ]
    },
    {
      "cell_type": "code",
      "metadata": {
        "id": "F9CkGdDBnTGK",
        "outputId": "d7fa9dc5-f6cf-4140-d2da-fe114f4cdb1f",
        "colab": {
          "base_uri": "https://localhost:8080/"
        }
      },
      "source": [
        "tsv_file= '/content/sample_data/BindingDB_PDSPKi3.tsv'\n",
        "tsv_file = pd.read_table(tsv_file, sep='\\t', error_bad_lines=False)"
      ],
      "execution_count": 2,
      "outputs": [
        {
          "output_type": "stream",
          "text": [
            "b'Skipping line 1717: expected 49 fields, saw 85\\nSkipping line 1718: expected 49 fields, saw 85\\nSkipping line 1719: expected 49 fields, saw 85\\nSkipping line 1720: expected 49 fields, saw 85\\nSkipping line 1721: expected 49 fields, saw 85\\nSkipping line 3561: expected 49 fields, saw 85\\nSkipping line 3562: expected 49 fields, saw 85\\nSkipping line 3563: expected 49 fields, saw 85\\nSkipping line 3564: expected 49 fields, saw 85\\nSkipping line 3565: expected 49 fields, saw 85\\nSkipping line 3566: expected 49 fields, saw 85\\nSkipping line 3567: expected 49 fields, saw 85\\nSkipping line 3568: expected 49 fields, saw 85\\nSkipping line 3569: expected 49 fields, saw 85\\nSkipping line 3570: expected 49 fields, saw 85\\nSkipping line 3571: expected 49 fields, saw 85\\nSkipping line 3572: expected 49 fields, saw 85\\nSkipping line 3573: expected 49 fields, saw 85\\nSkipping line 3574: expected 49 fields, saw 85\\nSkipping line 4976: expected 49 fields, saw 85\\nSkipping line 11152: expected 49 fields, saw 85\\n'\n"
          ],
          "name": "stderr"
        }
      ]
    },
    {
      "cell_type": "markdown",
      "metadata": {
        "id": "d3T35n4VpsPH"
      },
      "source": [
        "Check columns"
      ]
    },
    {
      "cell_type": "code",
      "metadata": {
        "id": "Ahi6uRzeo74e",
        "outputId": "3b731115-9bb2-48ad-8a4a-a1bbeead78bb",
        "colab": {
          "base_uri": "https://localhost:8080/"
        }
      },
      "source": [
        "tsv_file.columns"
      ],
      "execution_count": 3,
      "outputs": [
        {
          "output_type": "execute_result",
          "data": {
            "text/plain": [
              "Index(['BindingDB Reactant_set_id', 'Ligand SMILES', 'Ligand InChI',\n",
              "       'Ligand InChI Key', 'BindingDB MonomerID', 'BindingDB Ligand Name',\n",
              "       'Target Name Assigned by Curator or DataSource',\n",
              "       'Target Source Organism According to Curator or DataSource', 'Ki (nM)',\n",
              "       'IC50 (nM)', 'Kd (nM)', 'EC50 (nM)', 'kon (M-1-s-1)', 'koff (s-1)',\n",
              "       'pH', 'Temp (C)', 'Curation/DataSource', 'Article DOI', 'PMID',\n",
              "       'PubChem AID', 'Patent Number', 'Authors', 'Institution',\n",
              "       'Link to Ligand in BindingDB', 'Link to Target in BindingDB',\n",
              "       'Link to Ligand-Target Pair in BindingDB', 'Ligand HET ID in PDB',\n",
              "       'PDB ID(s) for Ligand-Target Complex', 'PubChem CID', 'PubChem SID',\n",
              "       'ChEBI ID of Ligand', 'ChEMBL ID of Ligand', 'DrugBank ID of Ligand',\n",
              "       'IUPHAR_GRAC ID of Ligand', 'KEGG ID of Ligand', 'ZINC ID of Ligand',\n",
              "       'Number of Protein Chains in Target (>1 implies a multichain complex)',\n",
              "       'BindingDB Target Chain  Sequence', 'PDB ID(s) of Target Chain',\n",
              "       'UniProt (SwissProt) Recommended Name of Target Chain',\n",
              "       'UniProt (SwissProt) Entry Name of Target Chain',\n",
              "       'UniProt (SwissProt) Primary ID of Target Chain',\n",
              "       'UniProt (SwissProt) Secondary ID(s) of Target Chain',\n",
              "       'UniProt (SwissProt) Alternative ID(s) of Target Chain',\n",
              "       'UniProt (TrEMBL) Submitted Name of Target Chain',\n",
              "       'UniProt (TrEMBL) Entry Name of Target Chain',\n",
              "       'UniProt (TrEMBL) Primary ID of Target Chain',\n",
              "       'UniProt (TrEMBL) Secondary ID(s) of Target Chain',\n",
              "       'UniProt (TrEMBL) Alternative ID(s) of Target Chain'],\n",
              "      dtype='object')"
            ]
          },
          "metadata": {
            "tags": []
          },
          "execution_count": 3
        }
      ]
    },
    {
      "cell_type": "markdown",
      "metadata": {
        "id": "AkVGLfCHpuXd"
      },
      "source": [
        "Filter the necessary columns - SMILEs, AA chain, and Ki "
      ]
    },
    {
      "cell_type": "code",
      "metadata": {
        "id": "JkiEcYNZpxpC"
      },
      "source": [
        "tsv_file_short = tsv_file[['Ligand SMILES', 'BindingDB Target Chain  Sequence', 'Ki (nM)']]"
      ],
      "execution_count": 4,
      "outputs": []
    },
    {
      "cell_type": "markdown",
      "metadata": {
        "id": "FY_-dj-A4L0I"
      },
      "source": [
        "There are 27,712 SMILE and protein sequence pairs with associated Ki values. "
      ]
    },
    {
      "cell_type": "code",
      "metadata": {
        "id": "V_LmzXfsqkRJ",
        "outputId": "ff877272-01f9-4d0a-a782-a27efb7994b8",
        "colab": {
          "base_uri": "https://localhost:8080/"
        }
      },
      "source": [
        "tsv_file_short.head"
      ],
      "execution_count": 5,
      "outputs": [
        {
          "output_type": "execute_result",
          "data": {
            "text/plain": [
              "<bound method NDFrame.head of                                            Ligand SMILES  ... Ki (nM)\n",
              "0      Cn1c2ncn(CCN3CCC(CC3)C(=O)c3ccc(F)cc3)c2c(=O)n...  ...     4.5\n",
              "1                               NC(N)=NN=Cc1c(Cl)cccc1Cl  ...   199.5\n",
              "2      Fc1ccc(cc1)C(=O)C1CCN(CCn2c(=O)[nH]c3ccccc3c2=...  ...     3.2\n",
              "3      Cc1nc2ccccn2c(=O)c1CCN1CCC(CC1)=C(c1ccc(F)cc1)...  ...       6\n",
              "4      Cc1nc2sccn2c(=O)c1CCN1CCC(CC1)=C(c1ccc(F)cc1)c...  ...     5.5\n",
              "...                                                  ...  ...     ...\n",
              "27707                 CC1C2Cc3ccc(O)cc3C1(C)CCN2CC=C(C)C  ...    1000\n",
              "27708                 CC1C2Cc3ccc(O)cc3C1(C)CCN2CC=C(C)C  ...    1000\n",
              "27709                 CC1C2Cc3ccc(O)cc3C1(C)CCN2CC=C(C)C  ...    1000\n",
              "27710          CN(C1CCCCC1N1CCCC1)C(=O)Cc1ccc(Cl)c(Cl)c1  ...    1000\n",
              "27711          CN(C1CCCCC1N1CCCC1)C(=O)Cc1ccc(Cl)c(Cl)c1  ...    1000\n",
              "\n",
              "[27712 rows x 3 columns]>"
            ]
          },
          "metadata": {
            "tags": []
          },
          "execution_count": 5
        }
      ]
    },
    {
      "cell_type": "markdown",
      "metadata": {
        "id": "UbuhjqBJqp0-"
      },
      "source": [
        "Check to see if an rows within SMILE column have NaN"
      ]
    },
    {
      "cell_type": "code",
      "metadata": {
        "id": "hhqPf3y5rV8W",
        "outputId": "8edceef5-e9a8-4ee5-ebb4-d7167f8d7902",
        "colab": {
          "base_uri": "https://localhost:8080/"
        }
      },
      "source": [
        "tsv_file_short[['Ligand SMILES']].isnull().values.any()"
      ],
      "execution_count": 6,
      "outputs": [
        {
          "output_type": "execute_result",
          "data": {
            "text/plain": [
              "False"
            ]
          },
          "metadata": {
            "tags": []
          },
          "execution_count": 6
        }
      ]
    },
    {
      "cell_type": "markdown",
      "metadata": {
        "id": "gMxEmYWBrfFN"
      },
      "source": [
        "No rows have NaN in SMILEs, now check in the AA row"
      ]
    },
    {
      "cell_type": "code",
      "metadata": {
        "id": "M58eFQb7qmQs",
        "outputId": "5a79ca65-fdd1-4cd2-f14a-f4f0780e9096",
        "colab": {
          "base_uri": "https://localhost:8080/"
        }
      },
      "source": [
        "tsv_file_short[['BindingDB Target Chain  Sequence']].isnull().values.any()"
      ],
      "execution_count": 7,
      "outputs": [
        {
          "output_type": "execute_result",
          "data": {
            "text/plain": [
              "False"
            ]
          },
          "metadata": {
            "tags": []
          },
          "execution_count": 7
        }
      ]
    },
    {
      "cell_type": "markdown",
      "metadata": {
        "id": "Sz2W-Tocs3k9"
      },
      "source": [
        "Check final column for null values. None found"
      ]
    },
    {
      "cell_type": "code",
      "metadata": {
        "id": "9k7eSVd-szIf",
        "outputId": "9417ac51-6bea-493b-a819-dd59ec53b02e",
        "colab": {
          "base_uri": "https://localhost:8080/"
        }
      },
      "source": [
        "tsv_file_short[['Ki (nM)']].isnull().values.any()"
      ],
      "execution_count": 8,
      "outputs": [
        {
          "output_type": "execute_result",
          "data": {
            "text/plain": [
              "False"
            ]
          },
          "metadata": {
            "tags": []
          },
          "execution_count": 8
        }
      ]
    },
    {
      "cell_type": "markdown",
      "metadata": {
        "id": "nOgvi1WIyJkd"
      },
      "source": [
        "Convert PANDA into np.array"
      ]
    },
    {
      "cell_type": "code",
      "metadata": {
        "id": "berIBcTXyL9M"
      },
      "source": [
        "DBBind = tsv_file_short.to_numpy()"
      ],
      "execution_count": 9,
      "outputs": []
    },
    {
      "cell_type": "markdown",
      "metadata": {
        "id": "K1C7saq5PaFO"
      },
      "source": [
        "Remove all numbers from SMILES"
      ]
    },
    {
      "cell_type": "code",
      "metadata": {
        "id": "0FBI4OoNPdDn"
      },
      "source": [
        "value = len(DBBind[:,0])\n",
        "for x in range((value)):\n",
        "  DBBind[x,0] = ''.join([i for i in DBBind[x,0] if not i.isdigit()])"
      ],
      "execution_count": 10,
      "outputs": []
    },
    {
      "cell_type": "markdown",
      "metadata": {
        "id": "P_T86JUMOUNY"
      },
      "source": [
        "First we want to cycle through the SMILES that have two symbols back to back that are single entity and convert this to one symbol. Br-> B, Cl-> K, @@->X."
      ]
    },
    {
      "cell_type": "markdown",
      "metadata": {
        "id": "TQuTK2rZTSB7"
      },
      "source": [
        "Subsitute B for Br"
      ]
    },
    {
      "cell_type": "code",
      "metadata": {
        "id": "u-cAzuELQwDF"
      },
      "source": [
        "for x in range(len(DBBind[:,0])):\n",
        "  s = DBBind[x,0]\n",
        "  for i in range(0, len(s)-1):\n",
        "    if s[i:i+2]==\"Br\":\n",
        "      s = s[:i]+'B' + s[i+2:]\n",
        "  DBBind[x,0] = s"
      ],
      "execution_count": 24,
      "outputs": []
    },
    {
      "cell_type": "markdown",
      "metadata": {
        "id": "ZZGtHv2UTWV3"
      },
      "source": [
        "Substitute K for Cl"
      ]
    },
    {
      "cell_type": "code",
      "metadata": {
        "id": "WeDEwKrqTlS7"
      },
      "source": [
        "for x in range(len(DBBind[:,0])):\n",
        "  s = DBBind[x,0]\n",
        "  for i in range(0, len(s)-1):\n",
        "    if s[i:i+2]==\"Cl\":\n",
        "      s = s[:i]+'K' + s[i+2:]\n",
        "  DBBind[x,0] = s"
      ],
      "execution_count": 25,
      "outputs": []
    },
    {
      "cell_type": "markdown",
      "metadata": {
        "id": "ozBUmDQfTcJt"
      },
      "source": [
        "Substitute X for @@"
      ]
    },
    {
      "cell_type": "code",
      "metadata": {
        "id": "I3dRQi_DTmAV"
      },
      "source": [
        "for x in range(len(DBBind[:,0])):\n",
        "  s = DBBind[x,0]\n",
        "  for i in range(0, len(s)-1):\n",
        "    if s[i:i+2]==\"@@\":\n",
        "      s = s[:i]+'X' + s[i+2:]\n",
        "  DBBind[x,0] = s"
      ],
      "execution_count": 26,
      "outputs": []
    },
    {
      "cell_type": "markdown",
      "metadata": {
        "id": "RmTH3-o3yf24"
      },
      "source": [
        "Check the length of each of the SMILES. Starting with the minimum and maximum"
      ]
    },
    {
      "cell_type": "code",
      "metadata": {
        "id": "g-SNigLsyY2C",
        "outputId": "90951cab-6ce9-4232-d44e-4e8a1380965a",
        "colab": {
          "base_uri": "https://localhost:8080/"
        }
      },
      "source": [
        "min([len(x) for x in DBBind[:,0].tolist()])"
      ],
      "execution_count": 27,
      "outputs": [
        {
          "output_type": "execute_result",
          "data": {
            "text/plain": [
              "5"
            ]
          },
          "metadata": {
            "tags": []
          },
          "execution_count": 27
        }
      ]
    },
    {
      "cell_type": "markdown",
      "metadata": {
        "id": "LELomvTp12QT"
      },
      "source": [
        "Minimum SMILE is a length of 5"
      ]
    },
    {
      "cell_type": "code",
      "metadata": {
        "id": "tJfpTzBR0VYf",
        "outputId": "337fce87-937b-4f66-db12-058751e5c058",
        "colab": {
          "base_uri": "https://localhost:8080/"
        }
      },
      "source": [
        "max([len(x) for x in DBBind[:,0].tolist()])"
      ],
      "execution_count": 28,
      "outputs": [
        {
          "output_type": "execute_result",
          "data": {
            "text/plain": [
              "1132"
            ]
          },
          "metadata": {
            "tags": []
          },
          "execution_count": 28
        }
      ]
    },
    {
      "cell_type": "markdown",
      "metadata": {
        "id": "GzT990kq147W"
      },
      "source": [
        "Maximum SMILE is a length of 1132"
      ]
    },
    {
      "cell_type": "markdown",
      "metadata": {
        "id": "ynh7rI2L19Ti"
      },
      "source": [
        "Now check minimum and maximum of the protein"
      ]
    },
    {
      "cell_type": "code",
      "metadata": {
        "id": "eeUyqrt51W2v",
        "outputId": "e38dc920-0955-4562-b0a4-9cea9d745d8a",
        "colab": {
          "base_uri": "https://localhost:8080/"
        }
      },
      "source": [
        "min([len(x) for x in DBBind[:,1].tolist()])"
      ],
      "execution_count": 29,
      "outputs": [
        {
          "output_type": "execute_result",
          "data": {
            "text/plain": [
              "11"
            ]
          },
          "metadata": {
            "tags": []
          },
          "execution_count": 29
        }
      ]
    },
    {
      "cell_type": "markdown",
      "metadata": {
        "id": "_XWjyWQ42E8x"
      },
      "source": [
        "Minimum protein AA is 11"
      ]
    },
    {
      "cell_type": "code",
      "metadata": {
        "id": "C1lJuLEI2I8w",
        "outputId": "51e90f62-befd-46a1-d0f8-b809b361bb72",
        "colab": {
          "base_uri": "https://localhost:8080/"
        }
      },
      "source": [
        "max([len(x) for x in DBBind[:,1].tolist()])"
      ],
      "execution_count": 30,
      "outputs": [
        {
          "output_type": "execute_result",
          "data": {
            "text/plain": [
              "4303"
            ]
          },
          "metadata": {
            "tags": []
          },
          "execution_count": 30
        }
      ]
    },
    {
      "cell_type": "markdown",
      "metadata": {
        "id": "oVqRGkpv2h03"
      },
      "source": [
        "Maximum protein AA is 4303"
      ]
    },
    {
      "cell_type": "markdown",
      "metadata": {
        "id": "J4hw32yg-pE0"
      },
      "source": [
        "The vast majority of the ligands fall between 20 and 75 length. Therefore we removed any combinations with a SMILE length greater than 90."
      ]
    },
    {
      "cell_type": "code",
      "metadata": {
        "id": "oMYXSteRGkGm"
      },
      "source": [
        "value = len(DBBind[:,0])\n",
        "place_holder = []\n",
        "for x in range((value)):\n",
        "  if len(DBBind[x,0]) > 90:\n",
        "    place_holder.append(x)"
      ],
      "execution_count": 31,
      "outputs": []
    },
    {
      "cell_type": "code",
      "metadata": {
        "id": "iabdupmoI1RV"
      },
      "source": [
        "DBBind = np.delete(DBBind, place_holder, axis=0)"
      ],
      "execution_count": 32,
      "outputs": []
    },
    {
      "cell_type": "markdown",
      "metadata": {
        "id": "agJntws7Lakl"
      },
      "source": [
        "Now we remove all proteins greater than 990 AA, which is about 100 pairs"
      ]
    },
    {
      "cell_type": "code",
      "metadata": {
        "id": "JOsBMY5LK-Cv"
      },
      "source": [
        "value = len(DBBind[:,0])\n",
        "place_holder = []\n",
        "for x in range((value)):\n",
        "  if len(DBBind[x,1]) > 990:\n",
        "    place_holder.append(x)"
      ],
      "execution_count": 33,
      "outputs": []
    },
    {
      "cell_type": "code",
      "metadata": {
        "id": "9OSRzhD2LFGR"
      },
      "source": [
        "DBBind = np.delete(DBBind, place_holder, axis=0)"
      ],
      "execution_count": 34,
      "outputs": []
    },
    {
      "cell_type": "markdown",
      "metadata": {
        "id": "tpW7ZdqqLqA8"
      },
      "source": [
        "Our new shape is (23,109 by 3) representing 23,109 pairs"
      ]
    },
    {
      "cell_type": "code",
      "metadata": {
        "id": "iTzy6R0fLr46",
        "outputId": "2acfd39b-55c8-4cf3-c1f4-d787350c7bf7",
        "colab": {
          "base_uri": "https://localhost:8080/"
        }
      },
      "source": [
        "DBBind.shape"
      ],
      "execution_count": 35,
      "outputs": [
        {
          "output_type": "execute_result",
          "data": {
            "text/plain": [
              "(23109, 3)"
            ]
          },
          "metadata": {
            "tags": []
          },
          "execution_count": 35
        }
      ]
    },
    {
      "cell_type": "markdown",
      "metadata": {
        "id": "AgdP8g9dKeEl"
      },
      "source": [
        "For now we added 0s to get the ligand sizes to all equal 800\n",
        "\n",
        "We then add on 0s to every protein AA sequence to get it to 2400 AA's. Also remove > sign and convert Ki to float"
      ]
    },
    {
      "cell_type": "code",
      "metadata": {
        "id": "HycctxFD_eRf"
      },
      "source": [
        "for x in range(len(DBBind[:,0])):\n",
        "  DBBind[x,0] = DBBind[x,0][::-1]\n",
        "  DBBind[x,0] = DBBind[x,0].zfill(100)       #fill ligand to 100\n",
        "  DBBind[x,0] = DBBind[x,0][::-1]\n",
        "  DBBind[x,1] = DBBind[x,1][::-1]\n",
        "  DBBind[x,1] = DBBind[x,1].zfill(1000)     #fill protein to 2400\n",
        "  DBBind[x,1] = DBBind[x,1][::-1]  \n",
        "  DBBind[x,2] = (DBBind[x,2]).strip()        #strip sides\n",
        "  if '>' == DBBind[x,2][0] :            #if Ki >10000 treat as 10000, Ki >70000 treat as 10000, ect.\n",
        "    DBBind[x,2] = DBBind[x,2][1:]\n",
        "  DBBind[x,2] = float(DBBind[x,2])        #convert Ki to int"
      ],
      "execution_count": 36,
      "outputs": []
    },
    {
      "cell_type": "markdown",
      "metadata": {
        "id": "3VwQZjtqMvas"
      },
      "source": [
        "Check the head"
      ]
    },
    {
      "cell_type": "code",
      "metadata": {
        "id": "dcvLrZfLDYRx",
        "outputId": "e50baf2f-8de7-457e-c3d4-6ec420ea3596",
        "colab": {
          "base_uri": "https://localhost:8080/"
        }
      },
      "source": [
        "DBBind[0:3]"
      ],
      "execution_count": 37,
      "outputs": [
        {
          "output_type": "execute_result",
          "data": {
            "text/plain": [
              "array([['Cncncn(CCNCCC(CC)C(=O)cccc(F)cc)cc(=O)n(C)c=O0000000000000000000000000000000000000000000000000000000',\n",
              "        'MEILCEDNISLSSIPNSLMQLGDGPRLYHNDFNSRDANTSEASNWTIDAENRTNLSCEGYLPPTCLSILHLQEKNWSALLTTVVIILTIAGNILVIMAVSLEKKLQNATNYFLMSLAIADMLLGFLVMPVSMLTILYGYRWPLPSKLCAIWIYLDVLFSTASIMHLCAISLDRYVAIQNPIHHSRFNSRTKAFLKIIAVWTISVGISMPIPVFGLQDDSKVFKEGSCLLADDNFVLIGSFVAFFIPLTIMVITYFLTIKSLQKEATLCVSDLSTRAKLASFSFLPQSSLSSEKLFQRSIHREPGSYAGRRTMQSISNEQKACKVLGIVFFLFVVMWCPFFITNIMAVICKESCNENVIGALLNVFVWIGYLSSAVNPLVYTLFNKTYRSAFSRYIQCQYKENRKPLQLILVNTIPALAYKSSQLQVGQKKNSQEDAEQTVDDCSMVTLGKQQSEENCTDNIETVNEKVSCV0000000000000000000000000000000000000000000000000000000000000000000000000000000000000000000000000000000000000000000000000000000000000000000000000000000000000000000000000000000000000000000000000000000000000000000000000000000000000000000000000000000000000000000000000000000000000000000000000000000000000000000000000000000000000000000000000000000000000000000000000000000000000000000000000000000000000000000000000000000000000000000000000000000000000000000000000000000000000000000000000000000000000000000000000000000000000000000000000',\n",
              "        4.5],\n",
              "       ['NC(N)=NN=Ccc(K)ccccK00000000000000000000000000000000000000000000000000000000000000000000000000000000',\n",
              "        'MEILCEDNISLSSIPNSLMQLGDGPRLYHNDFNSRDANTSEASNWTIDAENRTNLSCEGYLPPTCLSILHLQEKNWSALLTTVVIILTIAGNILVIMAVSLEKKLQNATNYFLMSLAIADMLLGFLVMPVSMLTILYGYRWPLPSKLCAIWIYLDVLFSTASIMHLCAISLDRYVAIQNPIHHSRFNSRTKAFLKIIAVWTISVGISMPIPVFGLQDDSKVFKEGSCLLADDNFVLIGSFVAFFIPLTIMVITYFLTIKSLQKEATLCVSDLSTRAKLASFSFLPQSSLSSEKLFQRSIHREPGSYAGRRTMQSISNEQKACKVLGIVFFLFVVMWCPFFITNIMAVICKESCNENVIGALLNVFVWIGYLSSAVNPLVYTLFNKTYRSAFSRYIQCQYKENRKPLQLILVNTIPALAYKSSQLQVGQKKNSQEDAEQTVDDCSMVTLGKQQSEENCTDNIETVNEKVSCV0000000000000000000000000000000000000000000000000000000000000000000000000000000000000000000000000000000000000000000000000000000000000000000000000000000000000000000000000000000000000000000000000000000000000000000000000000000000000000000000000000000000000000000000000000000000000000000000000000000000000000000000000000000000000000000000000000000000000000000000000000000000000000000000000000000000000000000000000000000000000000000000000000000000000000000000000000000000000000000000000000000000000000000000000000000000000000000000000',\n",
              "        199.5],\n",
              "       ['Fcccc(cc)C(=O)CCCN(CCnc(=O)[nH]ccccccc=O)CC000000000000000000000000000000000000000000000000000000000',\n",
              "        'MEILCEDNISLSSIPNSLMQLGDGPRLYHNDFNSRDANTSEASNWTIDAENRTNLSCEGYLPPTCLSILHLQEKNWSALLTTVVIILTIAGNILVIMAVSLEKKLQNATNYFLMSLAIADMLLGFLVMPVSMLTILYGYRWPLPSKLCAIWIYLDVLFSTASIMHLCAISLDRYVAIQNPIHHSRFNSRTKAFLKIIAVWTISVGISMPIPVFGLQDDSKVFKEGSCLLADDNFVLIGSFVAFFIPLTIMVITYFLTIKSLQKEATLCVSDLSTRAKLASFSFLPQSSLSSEKLFQRSIHREPGSYAGRRTMQSISNEQKACKVLGIVFFLFVVMWCPFFITNIMAVICKESCNENVIGALLNVFVWIGYLSSAVNPLVYTLFNKTYRSAFSRYIQCQYKENRKPLQLILVNTIPALAYKSSQLQVGQKKNSQEDAEQTVDDCSMVTLGKQQSEENCTDNIETVNEKVSCV0000000000000000000000000000000000000000000000000000000000000000000000000000000000000000000000000000000000000000000000000000000000000000000000000000000000000000000000000000000000000000000000000000000000000000000000000000000000000000000000000000000000000000000000000000000000000000000000000000000000000000000000000000000000000000000000000000000000000000000000000000000000000000000000000000000000000000000000000000000000000000000000000000000000000000000000000000000000000000000000000000000000000000000000000000000000000000000000000',\n",
              "        3.2]], dtype=object)"
            ]
          },
          "metadata": {
            "tags": []
          },
          "execution_count": 37
        }
      ]
    },
    {
      "cell_type": "markdown",
      "metadata": {
        "id": "y4cdLjV4MyVB"
      },
      "source": [
        "Check the tail"
      ]
    },
    {
      "cell_type": "code",
      "metadata": {
        "id": "OOppftnnMzv_",
        "outputId": "4a37d859-f0a4-4287-da28-851734a45817",
        "colab": {
          "base_uri": "https://localhost:8080/"
        }
      },
      "source": [
        "DBBind[-3:]"
      ],
      "execution_count": 38,
      "outputs": [
        {
          "output_type": "execute_result",
          "data": {
            "text/plain": [
              "array([['CCCCcccc(O)ccC(C)CCNCC=C(C)C000000000000000000000000000000000000000000000000000000000000000000000000',\n",
              "        'MESLFPAPFWEVLYGSHFQGNLSLLNETVPHHLLLNASHSAFLPLGLKVTIVGLYLAVCIGGLLGNCLVMYVILRHTKMKTATNIYIFNLALADTLVLLTLPFQGTDILLGFWPFGNALCKTVIAIDYYNMFTSTFTLTAMSVDRYVAICHPIRALDVRTSSKAQAVNVAIWALASVVGVPVAIMGSAQVEDEEIECLVEIPAPQDYWGPVFAICIFLFSFIIPVLIISVCYSLMIRRLRGVRLLSGSREKDRNLRRITRLVLVVVAVFVGCWTPVQVFVLVQGLGVQPGSETAVAILRFCTALGYVNSCLNPILYAFLDENFKACFRKFCCASALHREMQVSDRVRSIAKDVGLGCKTSETVPRPA000000000000000000000000000000000000000000000000000000000000000000000000000000000000000000000000000000000000000000000000000000000000000000000000000000000000000000000000000000000000000000000000000000000000000000000000000000000000000000000000000000000000000000000000000000000000000000000000000000000000000000000000000000000000000000000000000000000000000000000000000000000000000000000000000000000000000000000000000000000000000000000000000000000000000000000000000000000000000000000000000000000000000000000000000000000000000000000000000000000000000000000000000000000000000000000000000000000000000000000000000000000000000000000000000000000',\n",
              "        1000.0],\n",
              "       ['CN(CCCCCCNCCCC)C(=O)Ccccc(K)c(K)c0000000000000000000000000000000000000000000000000000000000000000000',\n",
              "        'MESLFPAPFWEVLYGSHFQGNLSLLNETVPHHLLLNASHSAFLPLGLKVTIVGLYLAVCIGGLLGNCLVMYVILRHTKMKTATNIYIFNLALADTLVLLTLPFQGTDILLGFWPFGNALCKTVIAIDYYNMFTSTFTLTAMSVDRYVAICHPIRALDVRTSSKAQAVNVAIWALASVVGVPVAIMGSAQVEDEEIECLVEIPAPQDYWGPVFAICIFLFSFIIPVLIISVCYSLMIRRLRGVRLLSGSREKDRNLRRITRLVLVVVAVFVGCWTPVQVFVLVQGLGVQPGSETAVAILRFCTALGYVNSCLNPILYAFLDENFKACFRKFCCASALHREMQVSDRVRSIAKDVGLGCKTSETVPRPA000000000000000000000000000000000000000000000000000000000000000000000000000000000000000000000000000000000000000000000000000000000000000000000000000000000000000000000000000000000000000000000000000000000000000000000000000000000000000000000000000000000000000000000000000000000000000000000000000000000000000000000000000000000000000000000000000000000000000000000000000000000000000000000000000000000000000000000000000000000000000000000000000000000000000000000000000000000000000000000000000000000000000000000000000000000000000000000000000000000000000000000000000000000000000000000000000000000000000000000000000000000000000000000000000000000',\n",
              "        1000.0],\n",
              "       ['CN(CCCCCCNCCCC)C(=O)Ccccc(K)c(K)c0000000000000000000000000000000000000000000000000000000000000000000',\n",
              "        'MESLFPAPFWEVLYGSHFQGNLSLLNETVPHHLLLNASHSAFLPLGLKVTIVGLYLAVCIGGLLGNCLVMYVILRHTKMKTATNIYIFNLALADTLVLLTLPFQGTDILLGFWPFGNALCKTVIAIDYYNMFTSTFTLTAMSVDRYVAICHPIRALDVRTSSKAQAVNVAIWALASVVGVPVAIMGSAQVEDEEIECLVEIPAPQDYWGPVFAICIFLFSFIIPVLIISVCYSLMIRRLRGVRLLSGSREKDRNLRRITRLVLVVVAVFVGCWTPVQVFVLVQGLGVQPGSETAVAILRFCTALGYVNSCLNPILYAFLDENFKACFRKFCCASALHREMQVSDRVRSIAKDVGLGCKTSETVPRPA000000000000000000000000000000000000000000000000000000000000000000000000000000000000000000000000000000000000000000000000000000000000000000000000000000000000000000000000000000000000000000000000000000000000000000000000000000000000000000000000000000000000000000000000000000000000000000000000000000000000000000000000000000000000000000000000000000000000000000000000000000000000000000000000000000000000000000000000000000000000000000000000000000000000000000000000000000000000000000000000000000000000000000000000000000000000000000000000000000000000000000000000000000000000000000000000000000000000000000000000000000000000000000000000000000000',\n",
              "        1000.0]], dtype=object)"
            ]
          },
          "metadata": {
            "tags": []
          },
          "execution_count": 38
        }
      ]
    },
    {
      "cell_type": "markdown",
      "metadata": {
        "id": "6hyzWMeuPP5i"
      },
      "source": [
        "Switch back from numpy to PANDAS"
      ]
    },
    {
      "cell_type": "code",
      "metadata": {
        "id": "bvcTQ2tYO_WH"
      },
      "source": [
        "curated_dataframe = pd.DataFrame(data=DBBind)"
      ],
      "execution_count": 39,
      "outputs": []
    },
    {
      "cell_type": "markdown",
      "metadata": {
        "id": "cwdrcRhUNKmP"
      },
      "source": [
        "Rename the column titles"
      ]
    },
    {
      "cell_type": "code",
      "metadata": {
        "id": "ugvr-EtKPUbh"
      },
      "source": [
        "curated_dataframe.columns = ['SMILES', \"Protein\", \"Ki\"]"
      ],
      "execution_count": 40,
      "outputs": []
    },
    {
      "cell_type": "markdown",
      "metadata": {
        "id": "ykkrcpetNOtl"
      },
      "source": [
        "Print to an excel file"
      ]
    },
    {
      "cell_type": "code",
      "metadata": {
        "id": "LnN8RMGzPo3p"
      },
      "source": [
        "curated_dataframe.to_excel(\"curated_df.xlsx\")"
      ],
      "execution_count": 41,
      "outputs": []
    }
  ]
}