{
  "nbformat": 4,
  "nbformat_minor": 0,
  "metadata": {
    "colab": {
      "name": "Copy of Applied_Machine_Learning.ipynb",
      "provenance": [],
      "collapsed_sections": []
    },
    "kernelspec": {
      "name": "python3",
      "display_name": "Python 3"
    }
  },
  "cells": [
    {
      "cell_type": "markdown",
      "metadata": {
        "id": "SDh5A3joQ8f1"
      },
      "source": [
        "Zachary Strasser"
      ]
    },
    {
      "cell_type": "markdown",
      "metadata": {
        "id": "dC0O8JFvQ3ve"
      },
      "source": [
        "Import necessary modules"
      ]
    },
    {
      "cell_type": "code",
      "metadata": {
        "id": "2cnyjD_UlQM9"
      },
      "source": [
        "import pandas as pd\n",
        "import numpy as np\n",
        "import itertools\n",
        "import math as m\n",
        "from matplotlib import pyplot as plt"
      ],
      "execution_count": null,
      "outputs": []
    },
    {
      "cell_type": "markdown",
      "metadata": {
        "id": "vbBYlT0WnRTE"
      },
      "source": [
        "Read tsv file"
      ]
    },
    {
      "cell_type": "code",
      "metadata": {
        "id": "F9CkGdDBnTGK",
        "outputId": "eb8a46da-53d2-4008-8b08-18734fae0c76",
        "colab": {
          "base_uri": "https://localhost:8080/"
        }
      },
      "source": [
        "tsv_file= '/content/sample_data/BindingDB_PDSPKi3.tsv'\n",
        "tsv_file = pd.read_table(tsv_file, sep='\\t', error_bad_lines=False)"
      ],
      "execution_count": null,
      "outputs": [
        {
          "output_type": "stream",
          "text": [
            "b'Skipping line 1717: expected 49 fields, saw 85\\nSkipping line 1718: expected 49 fields, saw 85\\nSkipping line 1719: expected 49 fields, saw 85\\nSkipping line 1720: expected 49 fields, saw 85\\nSkipping line 1721: expected 49 fields, saw 85\\nSkipping line 3561: expected 49 fields, saw 85\\nSkipping line 3562: expected 49 fields, saw 85\\nSkipping line 3563: expected 49 fields, saw 85\\nSkipping line 3564: expected 49 fields, saw 85\\nSkipping line 3565: expected 49 fields, saw 85\\nSkipping line 3566: expected 49 fields, saw 85\\nSkipping line 3567: expected 49 fields, saw 85\\nSkipping line 3568: expected 49 fields, saw 85\\nSkipping line 3569: expected 49 fields, saw 85\\nSkipping line 3570: expected 49 fields, saw 85\\nSkipping line 3571: expected 49 fields, saw 85\\nSkipping line 3572: expected 49 fields, saw 85\\nSkipping line 3573: expected 49 fields, saw 85\\nSkipping line 3574: expected 49 fields, saw 85\\nSkipping line 4976: expected 49 fields, saw 85\\n'\n"
          ],
          "name": "stderr"
        }
      ]
    },
    {
      "cell_type": "markdown",
      "metadata": {
        "id": "F0fTMT2ZoWxa"
      },
      "source": [
        "Convert it to CSV file and save"
      ]
    },
    {
      "cell_type": "code",
      "metadata": {
        "id": "NIbXJadsn_ya"
      },
      "source": [
        "#tsv_file.to_csv('/content/sample_data/BindingFile.csv')"
      ],
      "execution_count": null,
      "outputs": []
    },
    {
      "cell_type": "markdown",
      "metadata": {
        "id": "d3T35n4VpsPH"
      },
      "source": [
        "Check columns"
      ]
    },
    {
      "cell_type": "code",
      "metadata": {
        "id": "Ahi6uRzeo74e",
        "outputId": "27a65644-5143-4549-ae3b-451962ecd609",
        "colab": {
          "base_uri": "https://localhost:8080/"
        }
      },
      "source": [
        "tsv_file.columns"
      ],
      "execution_count": null,
      "outputs": [
        {
          "output_type": "execute_result",
          "data": {
            "text/plain": [
              "Index(['BindingDB Reactant_set_id', 'Ligand SMILES', 'Ligand InChI',\n",
              "       'Ligand InChI Key', 'BindingDB MonomerID', 'BindingDB Ligand Name',\n",
              "       'Target Name Assigned by Curator or DataSource',\n",
              "       'Target Source Organism According to Curator or DataSource', 'Ki (nM)',\n",
              "       'IC50 (nM)', 'Kd (nM)', 'EC50 (nM)', 'kon (M-1-s-1)', 'koff (s-1)',\n",
              "       'pH', 'Temp (C)', 'Curation/DataSource', 'Article DOI', 'PMID',\n",
              "       'PubChem AID', 'Patent Number', 'Authors', 'Institution',\n",
              "       'Link to Ligand in BindingDB', 'Link to Target in BindingDB',\n",
              "       'Link to Ligand-Target Pair in BindingDB', 'Ligand HET ID in PDB',\n",
              "       'PDB ID(s) for Ligand-Target Complex', 'PubChem CID', 'PubChem SID',\n",
              "       'ChEBI ID of Ligand', 'ChEMBL ID of Ligand', 'DrugBank ID of Ligand',\n",
              "       'IUPHAR_GRAC ID of Ligand', 'KEGG ID of Ligand', 'ZINC ID of Ligand',\n",
              "       'Number of Protein Chains in Target (>1 implies a multichain complex)',\n",
              "       'BindingDB Target Chain  Sequence', 'PDB ID(s) of Target Chain',\n",
              "       'UniProt (SwissProt) Recommended Name of Target Chain',\n",
              "       'UniProt (SwissProt) Entry Name of Target Chain',\n",
              "       'UniProt (SwissProt) Primary ID of Target Chain',\n",
              "       'UniProt (SwissProt) Secondary ID(s) of Target Chain',\n",
              "       'UniProt (SwissProt) Alternative ID(s) of Target Chain',\n",
              "       'UniProt (TrEMBL) Submitted Name of Target Chain',\n",
              "       'UniProt (TrEMBL) Entry Name of Target Chain',\n",
              "       'UniProt (TrEMBL) Primary ID of Target Chain',\n",
              "       'UniProt (TrEMBL) Secondary ID(s) of Target Chain',\n",
              "       'UniProt (TrEMBL) Alternative ID(s) of Target Chain'],\n",
              "      dtype='object')"
            ]
          },
          "metadata": {
            "tags": []
          },
          "execution_count": 16
        }
      ]
    },
    {
      "cell_type": "markdown",
      "metadata": {
        "id": "AkVGLfCHpuXd"
      },
      "source": [
        "Pull the necessary columns"
      ]
    },
    {
      "cell_type": "code",
      "metadata": {
        "id": "JkiEcYNZpxpC"
      },
      "source": [
        "tsv_file_short = tsv_file[['Ligand SMILES', 'BindingDB Target Chain  Sequence', 'Ki (nM)']]"
      ],
      "execution_count": null,
      "outputs": []
    },
    {
      "cell_type": "markdown",
      "metadata": {
        "id": "FY_-dj-A4L0I"
      },
      "source": [
        "27,711 SMILE and protein sequence pairs with associated Ki values. We will split the group into 70/30 for training and validating."
      ]
    },
    {
      "cell_type": "code",
      "metadata": {
        "id": "V_LmzXfsqkRJ",
        "outputId": "4564e111-aa76-48b7-df8f-782aa2487539",
        "colab": {
          "base_uri": "https://localhost:8080/",
          "height": 419
        }
      },
      "source": [
        "tsv_file_short"
      ],
      "execution_count": null,
      "outputs": [
        {
          "output_type": "execute_result",
          "data": {
            "text/html": [
              "<div>\n",
              "<style scoped>\n",
              "    .dataframe tbody tr th:only-of-type {\n",
              "        vertical-align: middle;\n",
              "    }\n",
              "\n",
              "    .dataframe tbody tr th {\n",
              "        vertical-align: top;\n",
              "    }\n",
              "\n",
              "    .dataframe thead th {\n",
              "        text-align: right;\n",
              "    }\n",
              "</style>\n",
              "<table border=\"1\" class=\"dataframe\">\n",
              "  <thead>\n",
              "    <tr style=\"text-align: right;\">\n",
              "      <th></th>\n",
              "      <th>Ligand SMILES</th>\n",
              "      <th>BindingDB Target Chain  Sequence</th>\n",
              "      <th>Ki (nM)</th>\n",
              "    </tr>\n",
              "  </thead>\n",
              "  <tbody>\n",
              "    <tr>\n",
              "      <th>0</th>\n",
              "      <td>Cn1c2ncn(CCN3CCC(CC3)C(=O)c3ccc(F)cc3)c2c(=O)n...</td>\n",
              "      <td>MEILCEDNISLSSIPNSLMQLGDGPRLYHNDFNSRDANTSEASNWT...</td>\n",
              "      <td>4.5</td>\n",
              "    </tr>\n",
              "    <tr>\n",
              "      <th>1</th>\n",
              "      <td>NC(N)=NN=Cc1c(Cl)cccc1Cl</td>\n",
              "      <td>MEILCEDNISLSSIPNSLMQLGDGPRLYHNDFNSRDANTSEASNWT...</td>\n",
              "      <td>199.5</td>\n",
              "    </tr>\n",
              "    <tr>\n",
              "      <th>2</th>\n",
              "      <td>Fc1ccc(cc1)C(=O)C1CCN(CCn2c(=O)[nH]c3ccccc3c2=...</td>\n",
              "      <td>MEILCEDNISLSSIPNSLMQLGDGPRLYHNDFNSRDANTSEASNWT...</td>\n",
              "      <td>3.2</td>\n",
              "    </tr>\n",
              "    <tr>\n",
              "      <th>3</th>\n",
              "      <td>Cc1nc2ccccn2c(=O)c1CCN1CCC(CC1)=C(c1ccc(F)cc1)...</td>\n",
              "      <td>MEILCEDNISLSSIPNSLMQLGDGPRLYHNDFNSRDANTSEASNWT...</td>\n",
              "      <td>6</td>\n",
              "    </tr>\n",
              "    <tr>\n",
              "      <th>4</th>\n",
              "      <td>Cc1nc2sccn2c(=O)c1CCN1CCC(CC1)=C(c1ccc(F)cc1)c...</td>\n",
              "      <td>MEILCEDNISLSSIPNSLMQLGDGPRLYHNDFNSRDANTSEASNWT...</td>\n",
              "      <td>5.5</td>\n",
              "    </tr>\n",
              "    <tr>\n",
              "      <th>...</th>\n",
              "      <td>...</td>\n",
              "      <td>...</td>\n",
              "      <td>...</td>\n",
              "    </tr>\n",
              "    <tr>\n",
              "      <th>7807</th>\n",
              "      <td>NCCc1c[nH]c2ccc(cc12)C(N)=O</td>\n",
              "      <td>MMDVNSSGRPDLYGHLRSLILPEVGRGLQDLSPDGGAHPVVSSWMP...</td>\n",
              "      <td>0.83</td>\n",
              "    </tr>\n",
              "    <tr>\n",
              "      <th>7808</th>\n",
              "      <td>NCCc1c[nH]c2ccc(cc12)C(N)=O</td>\n",
              "      <td>MMDVNSSGRPDLYGHLRSFLLPEVGRGLPDLSPDGGADPVAGSWAP...</td>\n",
              "      <td>0.93</td>\n",
              "    </tr>\n",
              "    <tr>\n",
              "      <th>7809</th>\n",
              "      <td>NCCc1c[nH]c2ccc(cc12)C(N)=O</td>\n",
              "      <td>MMDVNSSGRPDLYGHLRSLILPEVGRRLQDLSPDGGAHSVVSSWMP...</td>\n",
              "      <td>1</td>\n",
              "    </tr>\n",
              "    <tr>\n",
              "      <th>7810</th>\n",
              "      <td>NCCc1c[nH]c2ccc(cc12)C(N)=O</td>\n",
              "      <td>MMDVNSSGRPDLYGHLRSLILPEVGRGLQDLSPDGGAHPVVSSWMP...</td>\n",
              "      <td>0.15</td>\n",
              "    </tr>\n",
              "    <tr>\n",
              "      <th>7811</th>\n",
              "      <td>NCCc1c[nH]c2ccc(cc12)C(N)=O</td>\n",
              "      <td>NaN</td>\n",
              "      <td>1.25</td>\n",
              "    </tr>\n",
              "  </tbody>\n",
              "</table>\n",
              "<p>7812 rows × 3 columns</p>\n",
              "</div>"
            ],
            "text/plain": [
              "                                          Ligand SMILES  ... Ki (nM)\n",
              "0     Cn1c2ncn(CCN3CCC(CC3)C(=O)c3ccc(F)cc3)c2c(=O)n...  ...     4.5\n",
              "1                              NC(N)=NN=Cc1c(Cl)cccc1Cl  ...   199.5\n",
              "2     Fc1ccc(cc1)C(=O)C1CCN(CCn2c(=O)[nH]c3ccccc3c2=...  ...     3.2\n",
              "3     Cc1nc2ccccn2c(=O)c1CCN1CCC(CC1)=C(c1ccc(F)cc1)...  ...       6\n",
              "4     Cc1nc2sccn2c(=O)c1CCN1CCC(CC1)=C(c1ccc(F)cc1)c...  ...     5.5\n",
              "...                                                 ...  ...     ...\n",
              "7807                        NCCc1c[nH]c2ccc(cc12)C(N)=O  ...    0.83\n",
              "7808                        NCCc1c[nH]c2ccc(cc12)C(N)=O  ...    0.93\n",
              "7809                        NCCc1c[nH]c2ccc(cc12)C(N)=O  ...       1\n",
              "7810                        NCCc1c[nH]c2ccc(cc12)C(N)=O  ...    0.15\n",
              "7811                        NCCc1c[nH]c2ccc(cc12)C(N)=O  ...    1.25\n",
              "\n",
              "[7812 rows x 3 columns]"
            ]
          },
          "metadata": {
            "tags": []
          },
          "execution_count": 304
        }
      ]
    },
    {
      "cell_type": "markdown",
      "metadata": {
        "id": "UbuhjqBJqp0-"
      },
      "source": [
        "Check to see if an rows have NaN"
      ]
    },
    {
      "cell_type": "code",
      "metadata": {
        "id": "hhqPf3y5rV8W",
        "outputId": "1269e7c9-3ddb-44b6-8efa-57da9de74e37",
        "colab": {
          "base_uri": "https://localhost:8080/"
        }
      },
      "source": [
        "tsv_file_short[['Ligand SMILES']].isnull().values.any()"
      ],
      "execution_count": null,
      "outputs": [
        {
          "output_type": "execute_result",
          "data": {
            "text/plain": [
              "False"
            ]
          },
          "metadata": {
            "tags": []
          },
          "execution_count": 305
        }
      ]
    },
    {
      "cell_type": "markdown",
      "metadata": {
        "id": "gMxEmYWBrfFN"
      },
      "source": [
        "No rows have NaN in BindingDB"
      ]
    },
    {
      "cell_type": "code",
      "metadata": {
        "id": "M58eFQb7qmQs",
        "outputId": "000eb79c-912a-49d7-93f3-e9e6279e38d7",
        "colab": {
          "base_uri": "https://localhost:8080/"
        }
      },
      "source": [
        "tsv_file_short[['BindingDB Target Chain  Sequence']].isnull().values.any()"
      ],
      "execution_count": null,
      "outputs": [
        {
          "output_type": "execute_result",
          "data": {
            "text/plain": [
              "True"
            ]
          },
          "metadata": {
            "tags": []
          },
          "execution_count": 306
        }
      ]
    },
    {
      "cell_type": "markdown",
      "metadata": {
        "id": "upa6zlPorjZw"
      },
      "source": [
        "Some rows have NaN in BindingDB target Chain, remove those rows. Find the row"
      ]
    },
    {
      "cell_type": "code",
      "metadata": {
        "id": "aI-wmzVbrp5p",
        "outputId": "21d45afd-3a95-4559-81d3-961cce782f8f",
        "colab": {
          "base_uri": "https://localhost:8080/"
        }
      },
      "source": [
        "tsv_file_short[['BindingDB Target Chain  Sequence']].isnull().sum()"
      ],
      "execution_count": null,
      "outputs": [
        {
          "output_type": "execute_result",
          "data": {
            "text/plain": [
              "BindingDB Target Chain  Sequence    1\n",
              "dtype: int64"
            ]
          },
          "metadata": {
            "tags": []
          },
          "execution_count": 307
        }
      ]
    },
    {
      "cell_type": "markdown",
      "metadata": {
        "id": "ZUeE_b8csbEd"
      },
      "source": [
        "It is the only final row with a NaN. Delete that row. "
      ]
    },
    {
      "cell_type": "code",
      "metadata": {
        "id": "8-JPmDSzshxS"
      },
      "source": [
        "tsv_file_short = tsv_file_short.drop(7811)"
      ],
      "execution_count": null,
      "outputs": []
    },
    {
      "cell_type": "markdown",
      "metadata": {
        "id": "Sz2W-Tocs3k9"
      },
      "source": [
        "Check final column for null values. None found"
      ]
    },
    {
      "cell_type": "code",
      "metadata": {
        "id": "9k7eSVd-szIf",
        "outputId": "a1367b9f-0487-4cc8-bde5-2678c3924fe9",
        "colab": {
          "base_uri": "https://localhost:8080/"
        }
      },
      "source": [
        "tsv_file_short[['Ki (nM)']].isnull().values.any()"
      ],
      "execution_count": null,
      "outputs": [
        {
          "output_type": "execute_result",
          "data": {
            "text/plain": [
              "False"
            ]
          },
          "metadata": {
            "tags": []
          },
          "execution_count": 309
        }
      ]
    },
    {
      "cell_type": "markdown",
      "metadata": {
        "id": "nOgvi1WIyJkd"
      },
      "source": [
        "Convert PANDA into np.array"
      ]
    },
    {
      "cell_type": "code",
      "metadata": {
        "id": "berIBcTXyL9M"
      },
      "source": [
        "DBBind = tsv_file_short.to_numpy()"
      ],
      "execution_count": null,
      "outputs": []
    },
    {
      "cell_type": "markdown",
      "metadata": {
        "id": "RmTH3-o3yf24"
      },
      "source": [
        "Check the length of each of the SMILES. Starting with the minimum and maximum"
      ]
    },
    {
      "cell_type": "code",
      "metadata": {
        "id": "g-SNigLsyY2C",
        "outputId": "4abdcdd3-cd54-41ac-df41-3dedfcaf30fb",
        "colab": {
          "base_uri": "https://localhost:8080/"
        }
      },
      "source": [
        "min([len(x) for x in DBBind[:,0].tolist()])"
      ],
      "execution_count": null,
      "outputs": [
        {
          "output_type": "execute_result",
          "data": {
            "text/plain": [
              "8"
            ]
          },
          "metadata": {
            "tags": []
          },
          "execution_count": 311
        }
      ]
    },
    {
      "cell_type": "markdown",
      "metadata": {
        "id": "LELomvTp12QT"
      },
      "source": [
        "Minimum SMILE is a length of 8"
      ]
    },
    {
      "cell_type": "code",
      "metadata": {
        "id": "tJfpTzBR0VYf",
        "outputId": "97b9f27a-fd2b-48ec-f08d-dd74155fa840",
        "colab": {
          "base_uri": "https://localhost:8080/"
        }
      },
      "source": [
        "max([len(x) for x in DBBind[:,0].tolist()])"
      ],
      "execution_count": null,
      "outputs": [
        {
          "output_type": "execute_result",
          "data": {
            "text/plain": [
              "764"
            ]
          },
          "metadata": {
            "tags": []
          },
          "execution_count": 312
        }
      ]
    },
    {
      "cell_type": "markdown",
      "metadata": {
        "id": "GzT990kq147W"
      },
      "source": [
        "Maximum SMILE is a length of 764"
      ]
    },
    {
      "cell_type": "markdown",
      "metadata": {
        "id": "ynh7rI2L19Ti"
      },
      "source": [
        "Now check minimum and maximum of the protein"
      ]
    },
    {
      "cell_type": "code",
      "metadata": {
        "id": "eeUyqrt51W2v",
        "outputId": "658ccada-83a9-4ef9-dcab-44630db693f5",
        "colab": {
          "base_uri": "https://localhost:8080/"
        }
      },
      "source": [
        "min([len(x) for x in DBBind[:,1].tolist()])"
      ],
      "execution_count": null,
      "outputs": [
        {
          "output_type": "execute_result",
          "data": {
            "text/plain": [
              "11"
            ]
          },
          "metadata": {
            "tags": []
          },
          "execution_count": 313
        }
      ]
    },
    {
      "cell_type": "markdown",
      "metadata": {
        "id": "_XWjyWQ42E8x"
      },
      "source": [
        "Minimum protein AA is 11"
      ]
    },
    {
      "cell_type": "code",
      "metadata": {
        "id": "C1lJuLEI2I8w",
        "outputId": "ae5ec392-1748-4d41-b134-2cbd182c8f84",
        "colab": {
          "base_uri": "https://localhost:8080/"
        }
      },
      "source": [
        "max([len(x) for x in DBBind[:,1].tolist()])"
      ],
      "execution_count": null,
      "outputs": [
        {
          "output_type": "execute_result",
          "data": {
            "text/plain": [
              "2353"
            ]
          },
          "metadata": {
            "tags": []
          },
          "execution_count": 314
        }
      ]
    },
    {
      "cell_type": "markdown",
      "metadata": {
        "id": "oVqRGkpv2h03"
      },
      "source": [
        "Maximum protein AA is 2353"
      ]
    },
    {
      "cell_type": "markdown",
      "metadata": {
        "id": "J4hw32yg-pE0"
      },
      "source": [
        "The vast majority of the ligands fall between 20 and 75 length. Therefore we removed any combinations with a SMILE length greater than 90."
      ]
    },
    {
      "cell_type": "code",
      "metadata": {
        "id": "oMYXSteRGkGm"
      },
      "source": [
        "value = len(DBBind[:,0])\n",
        "place_holder = []\n",
        "for x in range((value)):\n",
        "  if len(DBBind[x,0]) > 90:\n",
        "    place_holder.append(x)"
      ],
      "execution_count": null,
      "outputs": []
    },
    {
      "cell_type": "code",
      "metadata": {
        "id": "iabdupmoI1RV"
      },
      "source": [
        "DBBind = np.delete(DBBind, place_holder, axis=0)"
      ],
      "execution_count": null,
      "outputs": []
    },
    {
      "cell_type": "markdown",
      "metadata": {
        "id": "agJntws7Lakl"
      },
      "source": [
        "Now we remove all proteins greater than 990 AA, which is about 100 pairs"
      ]
    },
    {
      "cell_type": "code",
      "metadata": {
        "id": "JOsBMY5LK-Cv"
      },
      "source": [
        "value = len(DBBind[:,0])\n",
        "place_holder = []\n",
        "for x in range((value)):\n",
        "  if len(DBBind[x,1]) > 990:\n",
        "    place_holder.append(x)"
      ],
      "execution_count": null,
      "outputs": []
    },
    {
      "cell_type": "code",
      "metadata": {
        "id": "9OSRzhD2LFGR"
      },
      "source": [
        "DBBind = np.delete(DBBind, place_holder, axis=0)"
      ],
      "execution_count": null,
      "outputs": []
    },
    {
      "cell_type": "markdown",
      "metadata": {
        "id": "tpW7ZdqqLqA8"
      },
      "source": [
        "Our new shape is (6,826 by 3) representing 6826 pairs"
      ]
    },
    {
      "cell_type": "code",
      "metadata": {
        "id": "iTzy6R0fLr46",
        "outputId": "9d5536dc-aa6a-49f6-deaa-df7575d0ac38",
        "colab": {
          "base_uri": "https://localhost:8080/"
        }
      },
      "source": [
        "DBBind.shape"
      ],
      "execution_count": null,
      "outputs": [
        {
          "output_type": "execute_result",
          "data": {
            "text/plain": [
              "(6826, 3)"
            ]
          },
          "metadata": {
            "tags": []
          },
          "execution_count": 319
        }
      ]
    },
    {
      "cell_type": "markdown",
      "metadata": {
        "id": "AgdP8g9dKeEl"
      },
      "source": [
        "For now we added 0s to get the ligand sizes to all equal 800\n",
        "\n",
        "We then add on 0s to every protein AA sequence to get it to 2400 AA's."
      ]
    },
    {
      "cell_type": "code",
      "metadata": {
        "id": "HycctxFD_eRf"
      },
      "source": [
        "for x in range(len(DBBind[:,0])):\n",
        "  DBBind[x,0] = DBBind[x,0][::-1]\n",
        "  DBBind[x,0] = DBBind[x,0].zfill(100)       #fill ligand to 100\n",
        "  DBBind[x,0] = DBBind[x,0][::-1]\n",
        "  DBBind[x,1] = DBBind[x,1][::-1]\n",
        "  DBBind[x,1] = DBBind[x,1].zfill(1000)     #fill protein to 2400\n",
        "  DBBind[x,1] = DBBind[x,1][::-1]  \n",
        "  DBBind[x,2] = (DBBind[x,2]).strip()        #strip sides\n",
        "  if '>' == DBBind[x,2][0] :            #if Ki >10000 treat as 10000, Ki >70000 treat as 10000, ect.\n",
        "    DBBind[x,2] = DBBind[x,2][1:]\n",
        "  DBBind[x,2] = float(DBBind[x,2])        #convert Ki to int"
      ],
      "execution_count": null,
      "outputs": []
    },
    {
      "cell_type": "code",
      "metadata": {
        "id": "dcvLrZfLDYRx",
        "outputId": "7c932dcd-4984-4935-caba-03df676bf3ad",
        "colab": {
          "base_uri": "https://localhost:8080/"
        }
      },
      "source": [
        "DBBind"
      ],
      "execution_count": null,
      "outputs": [
        {
          "output_type": "execute_result",
          "data": {
            "text/plain": [
              "array([['Cn1c2ncn(CCN3CCC(CC3)C(=O)c3ccc(F)cc3)c2c(=O)n(C)c1=O00000000000000000000000000000000000000000000000',\n",
              "        'MEILCEDNISLSSIPNSLMQLGDGPRLYHNDFNSRDANTSEASNWTIDAENRTNLSCEGYLPPTCLSILHLQEKNWSALLTTVVIILTIAGNILVIMAVSLEKKLQNATNYFLMSLAIADMLLGFLVMPVSMLTILYGYRWPLPSKLCAIWIYLDVLFSTASIMHLCAISLDRYVAIQNPIHHSRFNSRTKAFLKIIAVWTISVGISMPIPVFGLQDDSKVFKEGSCLLADDNFVLIGSFVAFFIPLTIMVITYFLTIKSLQKEATLCVSDLSTRAKLASFSFLPQSSLSSEKLFQRSIHREPGSYAGRRTMQSISNEQKACKVLGIVFFLFVVMWCPFFITNIMAVICKESCNENVIGALLNVFVWIGYLSSAVNPLVYTLFNKTYRSAFSRYIQCQYKENRKPLQLILVNTIPALAYKSSQLQVGQKKNSQEDAEQTVDDCSMVTLGKQQSEENCTDNIETVNEKVSCV0000000000000000000000000000000000000000000000000000000000000000000000000000000000000000000000000000000000000000000000000000000000000000000000000000000000000000000000000000000000000000000000000000000000000000000000000000000000000000000000000000000000000000000000000000000000000000000000000000000000000000000000000000000000000000000000000000000000000000000000000000000000000000000000000000000000000000000000000000000000000000000000000000000000000000000000000000000000000000000000000000000000000000000000000000000000000000000000000',\n",
              "        4.5],\n",
              "       ['NC(N)=NN=Cc1c(Cl)cccc1Cl0000000000000000000000000000000000000000000000000000000000000000000000000000',\n",
              "        'MEILCEDNISLSSIPNSLMQLGDGPRLYHNDFNSRDANTSEASNWTIDAENRTNLSCEGYLPPTCLSILHLQEKNWSALLTTVVIILTIAGNILVIMAVSLEKKLQNATNYFLMSLAIADMLLGFLVMPVSMLTILYGYRWPLPSKLCAIWIYLDVLFSTASIMHLCAISLDRYVAIQNPIHHSRFNSRTKAFLKIIAVWTISVGISMPIPVFGLQDDSKVFKEGSCLLADDNFVLIGSFVAFFIPLTIMVITYFLTIKSLQKEATLCVSDLSTRAKLASFSFLPQSSLSSEKLFQRSIHREPGSYAGRRTMQSISNEQKACKVLGIVFFLFVVMWCPFFITNIMAVICKESCNENVIGALLNVFVWIGYLSSAVNPLVYTLFNKTYRSAFSRYIQCQYKENRKPLQLILVNTIPALAYKSSQLQVGQKKNSQEDAEQTVDDCSMVTLGKQQSEENCTDNIETVNEKVSCV0000000000000000000000000000000000000000000000000000000000000000000000000000000000000000000000000000000000000000000000000000000000000000000000000000000000000000000000000000000000000000000000000000000000000000000000000000000000000000000000000000000000000000000000000000000000000000000000000000000000000000000000000000000000000000000000000000000000000000000000000000000000000000000000000000000000000000000000000000000000000000000000000000000000000000000000000000000000000000000000000000000000000000000000000000000000000000000000000',\n",
              "        199.5],\n",
              "       ['Fc1ccc(cc1)C(=O)C1CCN(CCn2c(=O)[nH]c3ccccc3c2=O)CC10000000000000000000000000000000000000000000000000',\n",
              "        'MEILCEDNISLSSIPNSLMQLGDGPRLYHNDFNSRDANTSEASNWTIDAENRTNLSCEGYLPPTCLSILHLQEKNWSALLTTVVIILTIAGNILVIMAVSLEKKLQNATNYFLMSLAIADMLLGFLVMPVSMLTILYGYRWPLPSKLCAIWIYLDVLFSTASIMHLCAISLDRYVAIQNPIHHSRFNSRTKAFLKIIAVWTISVGISMPIPVFGLQDDSKVFKEGSCLLADDNFVLIGSFVAFFIPLTIMVITYFLTIKSLQKEATLCVSDLSTRAKLASFSFLPQSSLSSEKLFQRSIHREPGSYAGRRTMQSISNEQKACKVLGIVFFLFVVMWCPFFITNIMAVICKESCNENVIGALLNVFVWIGYLSSAVNPLVYTLFNKTYRSAFSRYIQCQYKENRKPLQLILVNTIPALAYKSSQLQVGQKKNSQEDAEQTVDDCSMVTLGKQQSEENCTDNIETVNEKVSCV0000000000000000000000000000000000000000000000000000000000000000000000000000000000000000000000000000000000000000000000000000000000000000000000000000000000000000000000000000000000000000000000000000000000000000000000000000000000000000000000000000000000000000000000000000000000000000000000000000000000000000000000000000000000000000000000000000000000000000000000000000000000000000000000000000000000000000000000000000000000000000000000000000000000000000000000000000000000000000000000000000000000000000000000000000000000000000000000000',\n",
              "        3.2],\n",
              "       ...,\n",
              "       ['NCCc1c[nH]c2ccc(cc12)C(N)=O0000000000000000000000000000000000000000000000000000000000000000000000000',\n",
              "        'MMDVNSSGRPDLYGHLRSFLLPEVGRGLPDLSPDGGADPVAGSWAPHLLSEVTASPAPTWDAPPDNASGCGEQINYGRVEKVVIGSILTLITLLTIAGNCLVVISVCFVKKLRQPSNYLIVSLALADLSVAVAVMPFVSVTDLIGGKWIFGHFFCNVFIAMDVMCCTASIMTLCVISIDRYLGITRPLTYPVRQNGKCMAKMILSVWLLSASITLPPLFGWAQNVNDDKVCLISQDFGYTIYSTAVAFYIPMSVMLFMYYQIYKAARKSAAKHKFPGFPRVEPDSVIALNGIVKLQKEVEECANLSRLLKHERKNISIFKREQKAATTLGIIVGAFTVCWLPFFLLSTARPFICGTSCSCIPLWVERTFLWLGYANSLINPFIYAFFNRDLRTTYRSLLQCQYRNINRKLSAAGMHEALKLAERPERPEFVLRACTRRVLLRPEKRPPVSVWVLQSPDHHNWLADKMLTTVEKKVMIHD00000000000000000000000000000000000000000000000000000000000000000000000000000000000000000000000000000000000000000000000000000000000000000000000000000000000000000000000000000000000000000000000000000000000000000000000000000000000000000000000000000000000000000000000000000000000000000000000000000000000000000000000000000000000000000000000000000000000000000000000000000000000000000000000000000000000000000000000000000000000000000000000000000000000000000000000000000000000000000000000000000000000000000000000000000000000000000',\n",
              "        0.93],\n",
              "       ['NCCc1c[nH]c2ccc(cc12)C(N)=O0000000000000000000000000000000000000000000000000000000000000000000000000',\n",
              "        'MMDVNSSGRPDLYGHLRSLILPEVGRRLQDLSPDGGAHSVVSSWMPHLLSGFPEVTASPAPTWDAPPDNVSGCGEQINYGRVEKVVIGSILTLITLLTIAGNCLVVISVCFVKKLRQPSNYLIVSLALADLSVAVAVMPFVSVTDLIGGKWIFGHFFCNVFIAMDVMCCTASIMTLCVISIDRYLGITRPLTYPVRQNGKCMAKMILSVWLLSASITLPPLFGWAQNVNDDKVCLISQDFGYTIYSTAVAFYIPMSVMLFMYYQIYKAARKSAAKHKFSGFPRVQPESVISLNGVVKLQKEVEECANLSRLLKHERKNISIFKREQKAATTLGIIVGAFTVCWLPFFLLSTARPFICGTSCSCIPLWVERTCLWLGYANSLINPFIYAFFNRDLRTTYRSLLQCQYRNINRKLSAAGMHEALKLAERPERSEFVLQNCDHCGKKGHDT000000000000000000000000000000000000000000000000000000000000000000000000000000000000000000000000000000000000000000000000000000000000000000000000000000000000000000000000000000000000000000000000000000000000000000000000000000000000000000000000000000000000000000000000000000000000000000000000000000000000000000000000000000000000000000000000000000000000000000000000000000000000000000000000000000000000000000000000000000000000000000000000000000000000000000000000000000000000000000000000000000000000000000000000000000000000000000000000000000000000000000000000',\n",
              "        1.0],\n",
              "       ['NCCc1c[nH]c2ccc(cc12)C(N)=O0000000000000000000000000000000000000000000000000000000000000000000000000',\n",
              "        'MMDVNSSGRPDLYGHLRSLILPEVGRGLQDLSPDGGAHPVVSSWMPHLLSGFLEVTASPAPTWDAPPDNVSGCGEQINYGRVEKVVIGSILTLITLLTIAGNCLVVISVCFVKKLRQPSNYLIVSLALADLSVAVAVMPFVSVTDLIGGKWIFGHFFCNVFIAMDVMCCTASIMTLCVISIDRYLGITRPLTYPVRQNGKCMAKMILSVWLLSASITLPPLFGWAQNVNDDKVCLISQDFGYTIYSTAVAFYIPMSVMLFMYYQIYKAARKSAAKHKFPGFPRVQPESVISLNGVVKLQKEVEECANLSRLLKHERKNISIFKREQKAATTLGIIVGAFTVCWLPFFLLSTARPFICGTSCSCIPLWVERTCLWLGYANSLINPFIYAFFNRDLRTTYRSLLQCQYRNINRKLSAAGMHEALKLAERPERSEFVLQNSDHCGKKGHDT000000000000000000000000000000000000000000000000000000000000000000000000000000000000000000000000000000000000000000000000000000000000000000000000000000000000000000000000000000000000000000000000000000000000000000000000000000000000000000000000000000000000000000000000000000000000000000000000000000000000000000000000000000000000000000000000000000000000000000000000000000000000000000000000000000000000000000000000000000000000000000000000000000000000000000000000000000000000000000000000000000000000000000000000000000000000000000000000000000000000000000000000',\n",
              "        0.15]], dtype=object)"
            ]
          },
          "metadata": {
            "tags": []
          },
          "execution_count": 321
        }
      ]
    },
    {
      "cell_type": "markdown",
      "metadata": {
        "id": "6hyzWMeuPP5i"
      },
      "source": [
        "Curated Dataframe"
      ]
    },
    {
      "cell_type": "code",
      "metadata": {
        "id": "bvcTQ2tYO_WH"
      },
      "source": [
        "curated_dataframe = pd.DataFrame(data=DBBind)"
      ],
      "execution_count": null,
      "outputs": []
    },
    {
      "cell_type": "code",
      "metadata": {
        "id": "ugvr-EtKPUbh"
      },
      "source": [
        "curated_dataframe.columns = ['SMILES', \"Protein\", \"Ki\"]"
      ],
      "execution_count": null,
      "outputs": []
    },
    {
      "cell_type": "code",
      "metadata": {
        "id": "LnN8RMGzPo3p"
      },
      "source": [
        "curated_dataframe.to_excel(\"curated_df.xlsx\")"
      ],
      "execution_count": null,
      "outputs": []
    },
    {
      "cell_type": "markdown",
      "metadata": {
        "id": "sLIUwZYG33Hd"
      },
      "source": [
        "For testing, we will compare zinc-15 database SMILes to acid sequence of 6M2Q SARS-CoV-2 3CL protease. 306 AA:\n",
        "\n",
        "SGFRKMAFPSGKVEGCMVQVTCGTTTLNGLWLDDVVYCPRHVICTSEDMLNPNYEDLLIRKSNHNFLVQAGNVQLRVIGHSMQNCVLKLKVDTANPKTPKYKFVRIQPGQTFSVLACYNGSPSGVYQCAMRPNFTIKGSFLNGSCGSVGFNIDYDCVSFCYMHHMELPTGVHAGTDLEGNFYGPFVDRQTAQAAGTDTTITVNVLAWLYAAVINGDRWFLNRFTTTLNDFNLVAMKYNYEPLTQDHVDILGPLSAQTGIAVLDMCASLKELLQNGMNGRTILGSALLEDEFTPFDVVRQCSGVTFQ\n"
      ]
    },
    {
      "cell_type": "markdown",
      "metadata": {
        "id": "qwG40Nhx4eIV"
      },
      "source": [
        "Here is the imported zinc database"
      ]
    },
    {
      "cell_type": "code",
      "metadata": {
        "id": "r2q14YVP4H1y"
      },
      "source": [
        "tsv_file= '/content/sample_data/in-cells.csv'\n",
        "zinc_15 = pd.read_csv(tsv_file)"
      ],
      "execution_count": null,
      "outputs": []
    },
    {
      "cell_type": "code",
      "metadata": {
        "id": "YflIHdJu-yh3",
        "outputId": "fae4b8db-fa8b-4966-c8c9-9458bc1d8ec5",
        "colab": {
          "base_uri": "https://localhost:8080/",
          "height": 419
        }
      },
      "source": [
        "zinc_15"
      ],
      "execution_count": null,
      "outputs": [
        {
          "output_type": "execute_result",
          "data": {
            "text/html": [
              "<div>\n",
              "<style scoped>\n",
              "    .dataframe tbody tr th:only-of-type {\n",
              "        vertical-align: middle;\n",
              "    }\n",
              "\n",
              "    .dataframe tbody tr th {\n",
              "        vertical-align: top;\n",
              "    }\n",
              "\n",
              "    .dataframe thead th {\n",
              "        text-align: right;\n",
              "    }\n",
              "</style>\n",
              "<table border=\"1\" class=\"dataframe\">\n",
              "  <thead>\n",
              "    <tr style=\"text-align: right;\">\n",
              "      <th></th>\n",
              "      <th>zinc_id</th>\n",
              "      <th>smiles</th>\n",
              "    </tr>\n",
              "  </thead>\n",
              "  <tbody>\n",
              "    <tr>\n",
              "      <th>0</th>\n",
              "      <td>ZINC000245189325</td>\n",
              "      <td>O=P(=O)O</td>\n",
              "    </tr>\n",
              "    <tr>\n",
              "      <th>1</th>\n",
              "      <td>ZINC000029747110</td>\n",
              "      <td>COc1cccc2c1[C@@H]1CN(CCCCn3c(O)nc4c(sc5ncc(-c6...</td>\n",
              "    </tr>\n",
              "    <tr>\n",
              "      <th>2</th>\n",
              "      <td>ZINC000137550338</td>\n",
              "      <td>CN(C)c1cc(CNCC(C)(C)C)c(O)c2c1C[C@H]1C[C@H]3[C...</td>\n",
              "    </tr>\n",
              "    <tr>\n",
              "      <th>3</th>\n",
              "      <td>ZINC000137550409</td>\n",
              "      <td>CN(C)c1cc(CNCC(C)(C)C)c(O)c2c1C[C@H]1C[C@H]3[C...</td>\n",
              "    </tr>\n",
              "    <tr>\n",
              "      <th>4</th>\n",
              "      <td>ZINC000137550489</td>\n",
              "      <td>CN(C)c1cc(CNCC(C)(C)C)c(O)c2c1C[C@H]1C[C@H]3[C...</td>\n",
              "    </tr>\n",
              "    <tr>\n",
              "      <th>...</th>\n",
              "      <td>...</td>\n",
              "      <td>...</td>\n",
              "    </tr>\n",
              "    <tr>\n",
              "      <th>129560</th>\n",
              "      <td>ZINC000001536786</td>\n",
              "      <td>O=C1CC2(CCCC2)CC(=O)N1CCNC[C@H]1COc2ccccc2O1</td>\n",
              "    </tr>\n",
              "    <tr>\n",
              "      <th>129561</th>\n",
              "      <td>ZINC000001541570</td>\n",
              "      <td>CCCCCCCCCOc1ccc2[nH]cc(CCN)c2c1</td>\n",
              "    </tr>\n",
              "    <tr>\n",
              "      <th>129562</th>\n",
              "      <td>ZINC000001069090</td>\n",
              "      <td>COc1cc2c(cc1OC)[C@@]13CCN4CC5=CCO[C@H]6CC(=O)N...</td>\n",
              "    </tr>\n",
              "    <tr>\n",
              "      <th>129563</th>\n",
              "      <td>ZINC000002000919</td>\n",
              "      <td>COc1ccc([C@H]2CNC(=O)C2)cc1OC1CCCC1</td>\n",
              "    </tr>\n",
              "    <tr>\n",
              "      <th>129564</th>\n",
              "      <td>ZINC000002002226</td>\n",
              "      <td>CCOC(=O)c1ccc(OC(=O)CCCCCNC(=N)N)cc1</td>\n",
              "    </tr>\n",
              "  </tbody>\n",
              "</table>\n",
              "<p>129565 rows × 2 columns</p>\n",
              "</div>"
            ],
            "text/plain": [
              "                 zinc_id                                             smiles\n",
              "0       ZINC000245189325                                           O=P(=O)O\n",
              "1       ZINC000029747110  COc1cccc2c1[C@@H]1CN(CCCCn3c(O)nc4c(sc5ncc(-c6...\n",
              "2       ZINC000137550338  CN(C)c1cc(CNCC(C)(C)C)c(O)c2c1C[C@H]1C[C@H]3[C...\n",
              "3       ZINC000137550409  CN(C)c1cc(CNCC(C)(C)C)c(O)c2c1C[C@H]1C[C@H]3[C...\n",
              "4       ZINC000137550489  CN(C)c1cc(CNCC(C)(C)C)c(O)c2c1C[C@H]1C[C@H]3[C...\n",
              "...                  ...                                                ...\n",
              "129560  ZINC000001536786       O=C1CC2(CCCC2)CC(=O)N1CCNC[C@H]1COc2ccccc2O1\n",
              "129561  ZINC000001541570                    CCCCCCCCCOc1ccc2[nH]cc(CCN)c2c1\n",
              "129562  ZINC000001069090  COc1cc2c(cc1OC)[C@@]13CCN4CC5=CCO[C@H]6CC(=O)N...\n",
              "129563  ZINC000002000919                COc1ccc([C@H]2CNC(=O)C2)cc1OC1CCCC1\n",
              "129564  ZINC000002002226               CCOC(=O)c1ccc(OC(=O)CCCCCNC(=N)N)cc1\n",
              "\n",
              "[129565 rows x 2 columns]"
            ]
          },
          "metadata": {
            "tags": []
          },
          "execution_count": 57
        }
      ]
    },
    {
      "cell_type": "markdown",
      "metadata": {
        "id": "Vkj2EPTGAtDQ"
      },
      "source": [
        "The following sequence is the 3CL protease"
      ]
    },
    {
      "cell_type": "code",
      "metadata": {
        "id": "icHTADh-AyYU"
      },
      "source": [
        "\"SGFRKMAFPSGKVEGCMVQVTCGTTTLNGLWLDDVVYCPRHVICTSEDMLNPNYEDLLIRKSNHNFLVQAGNVQLRVIGHSMQNCVLKLKVDTANPKTPKYKFVRIQPGQTFSVLACYNGSPSGVYQCAMRPNFTIKGSFLNGSCGSVGFNIDYDCVSFCYMHHMELPTGVHAGTDLEGNFYGPFVDRQTAQAAGTDTTITVNVLAWLYAAVINGDRWFLNRFTTTLNDFNLVAMKYNYEPLTQDHVDILGPLSAQTGIAVLDMCASLKELLQNGMNGRTILGSALLEDEFTPFDVVRQCSGVTFQ\""
      ],
      "execution_count": null,
      "outputs": []
    },
    {
      "cell_type": "code",
      "metadata": {
        "id": "GY9al-qABAGA"
      },
      "source": [
        "import torch"
      ],
      "execution_count": null,
      "outputs": []
    },
    {
      "cell_type": "code",
      "metadata": {
        "id": "LZKcVZ0PeRUz"
      },
      "source": [
        ""
      ],
      "execution_count": null,
      "outputs": []
    }
  ]
}