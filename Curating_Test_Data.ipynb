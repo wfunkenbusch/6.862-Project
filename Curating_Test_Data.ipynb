{
  "nbformat": 4,
  "nbformat_minor": 0,
  "metadata": {
    "colab": {
      "name": "Curating_Test_Data.ipynb",
      "provenance": []
    },
    "kernelspec": {
      "name": "python3",
      "display_name": "Python 3"
    }
  },
  "cells": [
    {
      "cell_type": "markdown",
      "metadata": {
        "id": "fd7esr3_PvAB"
      },
      "source": [
        "Author: Zachary Strasser and William Funkbusch\n",
        "\n",
        "Date: 11-20-2020\n",
        "\n",
        "Import necessary modules"
      ]
    },
    {
      "cell_type": "code",
      "metadata": {
        "id": "Ameoo2IlPsl2"
      },
      "source": [
        "import pandas as pd\n",
        "import numpy as np\n",
        "import itertools\n",
        "import math as m\n",
        "from matplotlib import pyplot as plt"
      ],
      "execution_count": 3,
      "outputs": []
    },
    {
      "cell_type": "markdown",
      "metadata": {
        "id": "ZVNmmAibPyLB"
      },
      "source": [
        "Read tsv file from BindingDB website"
      ]
    },
    {
      "cell_type": "code",
      "metadata": {
        "colab": {
          "base_uri": "https://localhost:8080/"
        },
        "id": "hnHImzEEP2ES",
        "outputId": "83b04584-67c5-4381-c9df-19bfe66d36b2"
      },
      "source": [
        "tsv_file= '/content/sample_data/BindingDB_PDSPKi3.tsv'\n",
        "tsv_file = pd.read_table(tsv_file, sep='\\t', error_bad_lines=False)"
      ],
      "execution_count": 4,
      "outputs": [
        {
          "output_type": "stream",
          "text": [
            "b'Skipping line 1717: expected 49 fields, saw 85\\nSkipping line 1718: expected 49 fields, saw 85\\nSkipping line 1719: expected 49 fields, saw 85\\nSkipping line 1720: expected 49 fields, saw 85\\nSkipping line 1721: expected 49 fields, saw 85\\nSkipping line 3561: expected 49 fields, saw 85\\nSkipping line 3562: expected 49 fields, saw 85\\nSkipping line 3563: expected 49 fields, saw 85\\nSkipping line 3564: expected 49 fields, saw 85\\nSkipping line 3565: expected 49 fields, saw 85\\nSkipping line 3566: expected 49 fields, saw 85\\nSkipping line 3567: expected 49 fields, saw 85\\nSkipping line 3568: expected 49 fields, saw 85\\nSkipping line 3569: expected 49 fields, saw 85\\nSkipping line 3570: expected 49 fields, saw 85\\nSkipping line 3571: expected 49 fields, saw 85\\nSkipping line 3572: expected 49 fields, saw 85\\nSkipping line 3573: expected 49 fields, saw 85\\nSkipping line 3574: expected 49 fields, saw 85\\nSkipping line 4976: expected 49 fields, saw 85\\nSkipping line 11152: expected 49 fields, saw 85\\n'\n"
          ],
          "name": "stderr"
        }
      ]
    },
    {
      "cell_type": "markdown",
      "metadata": {
        "id": "-n7NpHNTP1iW"
      },
      "source": [
        "Check columns"
      ]
    },
    {
      "cell_type": "code",
      "metadata": {
        "colab": {
          "base_uri": "https://localhost:8080/"
        },
        "id": "xxpAiy00QArX",
        "outputId": "3c4d1f9d-0479-4465-ccdc-89c912296b67"
      },
      "source": [
        "tsv_file.columns"
      ],
      "execution_count": 5,
      "outputs": [
        {
          "output_type": "execute_result",
          "data": {
            "text/plain": [
              "Index(['BindingDB Reactant_set_id', 'Ligand SMILES', 'Ligand InChI',\n",
              "       'Ligand InChI Key', 'BindingDB MonomerID', 'BindingDB Ligand Name',\n",
              "       'Target Name Assigned by Curator or DataSource',\n",
              "       'Target Source Organism According to Curator or DataSource', 'Ki (nM)',\n",
              "       'IC50 (nM)', 'Kd (nM)', 'EC50 (nM)', 'kon (M-1-s-1)', 'koff (s-1)',\n",
              "       'pH', 'Temp (C)', 'Curation/DataSource', 'Article DOI', 'PMID',\n",
              "       'PubChem AID', 'Patent Number', 'Authors', 'Institution',\n",
              "       'Link to Ligand in BindingDB', 'Link to Target in BindingDB',\n",
              "       'Link to Ligand-Target Pair in BindingDB', 'Ligand HET ID in PDB',\n",
              "       'PDB ID(s) for Ligand-Target Complex', 'PubChem CID', 'PubChem SID',\n",
              "       'ChEBI ID of Ligand', 'ChEMBL ID of Ligand', 'DrugBank ID of Ligand',\n",
              "       'IUPHAR_GRAC ID of Ligand', 'KEGG ID of Ligand', 'ZINC ID of Ligand',\n",
              "       'Number of Protein Chains in Target (>1 implies a multichain complex)',\n",
              "       'BindingDB Target Chain  Sequence', 'PDB ID(s) of Target Chain',\n",
              "       'UniProt (SwissProt) Recommended Name of Target Chain',\n",
              "       'UniProt (SwissProt) Entry Name of Target Chain',\n",
              "       'UniProt (SwissProt) Primary ID of Target Chain',\n",
              "       'UniProt (SwissProt) Secondary ID(s) of Target Chain',\n",
              "       'UniProt (SwissProt) Alternative ID(s) of Target Chain',\n",
              "       'UniProt (TrEMBL) Submitted Name of Target Chain',\n",
              "       'UniProt (TrEMBL) Entry Name of Target Chain',\n",
              "       'UniProt (TrEMBL) Primary ID of Target Chain',\n",
              "       'UniProt (TrEMBL) Secondary ID(s) of Target Chain',\n",
              "       'UniProt (TrEMBL) Alternative ID(s) of Target Chain'],\n",
              "      dtype='object')"
            ]
          },
          "metadata": {
            "tags": []
          },
          "execution_count": 5
        }
      ]
    },
    {
      "cell_type": "markdown",
      "metadata": {
        "id": "7RXXbXUiQZTn"
      },
      "source": [
        "Filter the necessary columns - SMILEs, AA chain, and Ki "
      ]
    },
    {
      "cell_type": "code",
      "metadata": {
        "id": "TL4ua6KWRUC7"
      },
      "source": [
        "tsv_file_short = tsv_file[['Ligand SMILES', 'BindingDB Target Chain  Sequence', 'Ki (nM)']]"
      ],
      "execution_count": 7,
      "outputs": []
    },
    {
      "cell_type": "markdown",
      "metadata": {
        "id": "Osbka8cIQcdC"
      },
      "source": [
        "Convert PANDA into np.array"
      ]
    },
    {
      "cell_type": "code",
      "metadata": {
        "id": "BvzRCqrQQgTV"
      },
      "source": [
        "DBBind = tsv_file_short.to_numpy()"
      ],
      "execution_count": 8,
      "outputs": []
    },
    {
      "cell_type": "markdown",
      "metadata": {
        "id": "OX0qgt_TQoWj"
      },
      "source": [
        "Remove all numbers from SMILES"
      ]
    },
    {
      "cell_type": "code",
      "metadata": {
        "id": "nolxr6m1QlQz"
      },
      "source": [
        "value = len(DBBind[:,0])\n",
        "for x in range((value)):\n",
        "  DBBind[x,0] = ''.join([i for i in DBBind[x,0] if not i.isdigit()])"
      ],
      "execution_count": 9,
      "outputs": []
    },
    {
      "cell_type": "markdown",
      "metadata": {
        "id": "ymafbe4PQv0g"
      },
      "source": [
        "First we want to cycle through the SMILES that have two symbols back to back that are single entity and convert this to one symbol. Br-> B, Cl-> K, @@->X."
      ]
    },
    {
      "cell_type": "markdown",
      "metadata": {
        "id": "9UbB89qrQzZB"
      },
      "source": [
        "Subsitute B for Br"
      ]
    },
    {
      "cell_type": "code",
      "metadata": {
        "id": "M1fEzatcQySA"
      },
      "source": [
        "for x in range(len(DBBind[:,0])):\n",
        "  s = DBBind[x,0]\n",
        "  for i in range(0, len(s)-1):\n",
        "    if s[i:i+2]==\"Br\":\n",
        "      s = s[:i]+'B' + s[i+2:]\n",
        "  DBBind[x,0] = s"
      ],
      "execution_count": 10,
      "outputs": []
    },
    {
      "cell_type": "markdown",
      "metadata": {
        "id": "DBLeEdvzQ4z2"
      },
      "source": [
        "Substitute ! for Cl"
      ]
    },
    {
      "cell_type": "code",
      "metadata": {
        "id": "OnOWG4QwQ6rN"
      },
      "source": [
        "for x in range(len(DBBind[:,0])):\n",
        "  s = DBBind[x,0]\n",
        "  for i in range(0, len(s)-1):\n",
        "    if s[i:i+2]==\"Cl\":\n",
        "      s = s[:i]+'!' + s[i+2:]\n",
        "  DBBind[x,0] = s"
      ],
      "execution_count": 11,
      "outputs": []
    },
    {
      "cell_type": "markdown",
      "metadata": {
        "id": "pLURFjkUQ9TF"
      },
      "source": [
        "Substitute X for @@"
      ]
    },
    {
      "cell_type": "code",
      "metadata": {
        "id": "knPCBCl7Q-0e"
      },
      "source": [
        "for x in range(len(DBBind[:,0])):\n",
        "  s = DBBind[x,0]\n",
        "  for i in range(0, len(s)-1):\n",
        "    if s[i:i+2]==\"@@\":\n",
        "      s = s[:i]+'X' + s[i+2:]\n",
        "  DBBind[x,0] = s"
      ],
      "execution_count": 12,
      "outputs": []
    },
    {
      "cell_type": "markdown",
      "metadata": {
        "id": "7M2d8ezxRAJ5"
      },
      "source": [
        "Substitute * for Si"
      ]
    },
    {
      "cell_type": "code",
      "metadata": {
        "id": "5WlGnENiRAwX"
      },
      "source": [
        "for x in range(len(DBBind[:,0])):\n",
        "  s = DBBind[x,0]\n",
        "  for i in range(0, len(s)-1):\n",
        "    if s[i:i+2]==\"Si\":\n",
        "      s = s[:i]+'*' + s[i+2:]\n",
        "  DBBind[x,0] = s"
      ],
      "execution_count": 13,
      "outputs": []
    },
    {
      "cell_type": "markdown",
      "metadata": {
        "id": "sT-jVFwuRG-6"
      },
      "source": [
        "The vast majority of the ligands fall between 20 and 75 length. Therefore we removed any combinations with a SMILE length greater than 90."
      ]
    },
    {
      "cell_type": "code",
      "metadata": {
        "id": "Ex3nd3shRHXq"
      },
      "source": [
        "value = len(DBBind[:,0])\n",
        "place_holder = []\n",
        "for x in range((value)):\n",
        "  if len(DBBind[x,0]) > 90:\n",
        "    place_holder.append(x)"
      ],
      "execution_count": 14,
      "outputs": []
    },
    {
      "cell_type": "code",
      "metadata": {
        "id": "R3xA5in-RKOf"
      },
      "source": [
        "DBBind = np.delete(DBBind, place_holder, axis=0)"
      ],
      "execution_count": 15,
      "outputs": []
    },
    {
      "cell_type": "code",
      "metadata": {
        "colab": {
          "base_uri": "https://localhost:8080/"
        },
        "id": "RfYv0GrHRLA6",
        "outputId": "6b4c029a-20a7-4c09-8fbd-0cccbc47d0ec"
      },
      "source": [
        "len(DBBind)"
      ],
      "execution_count": 16,
      "outputs": [
        {
          "output_type": "execute_result",
          "data": {
            "text/plain": [
              "23746"
            ]
          },
          "metadata": {
            "tags": []
          },
          "execution_count": 16
        }
      ]
    },
    {
      "cell_type": "code",
      "metadata": {
        "colab": {
          "base_uri": "https://localhost:8080/"
        },
        "id": "bz6SNu1yRcd3",
        "outputId": "8e64a3aa-3a84-4500-be98-084a42ef8acb"
      },
      "source": [
        "DBBind.shape"
      ],
      "execution_count": 20,
      "outputs": [
        {
          "output_type": "execute_result",
          "data": {
            "text/plain": [
              "(23746, 3)"
            ]
          },
          "metadata": {
            "tags": []
          },
          "execution_count": 20
        }
      ]
    },
    {
      "cell_type": "code",
      "metadata": {
        "id": "vKqhEXnPRsbL"
      },
      "source": [
        "proteinase = \"SGFRKMAFPSGKVEGCMVQVTCGTTTLNGLWLDDVVYCPRHVICTSEDMLNPNYEDLLIRKSNHNFLVQAGNVQLRVIGHSMQNCVLKLKVDTANPKTPKYKFVRIQPGQTFSVLACYNGSPSGVYQCAMRPNFTIKGSFLNGSCGSVGFNIDYDCVSFCYMHHMELPTGVHAGTDLEGNFYGPFVDRQTAQAAGTDTTITVNVLAWLYAAVINGDRWFLNRFTTTLNDFNLVAMKYNYEPLTQDHVDILGPLSAQTGIAVLDMCASLKELLQNGMNGRTILGSALLEDEFTPFDVVRQCSGVTFQ\""
      ],
      "execution_count": 22,
      "outputs": []
    },
    {
      "cell_type": "markdown",
      "metadata": {
        "id": "wOTO2IsbTS6L"
      },
      "source": [
        "Create a small molecule array"
      ]
    },
    {
      "cell_type": "code",
      "metadata": {
        "id": "Bt9ovUgySSvr"
      },
      "source": [
        "small_molecule_array = (DBBind[:,0:1])"
      ],
      "execution_count": 42,
      "outputs": []
    },
    {
      "cell_type": "markdown",
      "metadata": {
        "id": "OPko6-FgTYnT"
      },
      "source": [
        "Create an array that is hte same length as the small molecule array but is all the sequence of the protein"
      ]
    },
    {
      "cell_type": "code",
      "metadata": {
        "id": "QDjNKVY_TAZP"
      },
      "source": [
        "proteinase_array = np.full((23746,1), proteinase)"
      ],
      "execution_count": 40,
      "outputs": []
    },
    {
      "cell_type": "markdown",
      "metadata": {
        "id": "9e-Z7PulUE2z"
      },
      "source": [
        "Ensure dimensions are appropriate"
      ]
    },
    {
      "cell_type": "code",
      "metadata": {
        "colab": {
          "base_uri": "https://localhost:8080/"
        },
        "id": "94PvNVw7TzL2",
        "outputId": "0e5fd14f-7df9-4173-d4f4-a4fa552b7e78"
      },
      "source": [
        "small_molecule_array.shape"
      ],
      "execution_count": 43,
      "outputs": [
        {
          "output_type": "execute_result",
          "data": {
            "text/plain": [
              "(23746, 1)"
            ]
          },
          "metadata": {
            "tags": []
          },
          "execution_count": 43
        }
      ]
    },
    {
      "cell_type": "code",
      "metadata": {
        "colab": {
          "base_uri": "https://localhost:8080/"
        },
        "id": "-TKJRiWTT2O7",
        "outputId": "f91426c3-9b29-4b1f-b210-a612a92eebfc"
      },
      "source": [
        "proteinase_array.shape"
      ],
      "execution_count": 44,
      "outputs": [
        {
          "output_type": "execute_result",
          "data": {
            "text/plain": [
              "(23746, 1)"
            ]
          },
          "metadata": {
            "tags": []
          },
          "execution_count": 44
        }
      ]
    },
    {
      "cell_type": "markdown",
      "metadata": {
        "id": "HJegmDxDSn8j"
      },
      "source": [
        "Stack the two"
      ]
    },
    {
      "cell_type": "code",
      "metadata": {
        "id": "3As_rAxGTjH0"
      },
      "source": [
        "new_array = np.hstack((small_molecule_array, proteinase_array))"
      ],
      "execution_count": 47,
      "outputs": []
    },
    {
      "cell_type": "markdown",
      "metadata": {
        "id": "VDBsmUWGUUFT"
      },
      "source": [
        "Ensure the right dimensions"
      ]
    },
    {
      "cell_type": "code",
      "metadata": {
        "colab": {
          "base_uri": "https://localhost:8080/"
        },
        "id": "cqQBUQH-UNWg",
        "outputId": "3505e15a-dddd-439e-ee2d-d9ae4b94a353"
      },
      "source": [
        "new_array.shape"
      ],
      "execution_count": 48,
      "outputs": [
        {
          "output_type": "execute_result",
          "data": {
            "text/plain": [
              "(23746, 2)"
            ]
          },
          "metadata": {
            "tags": []
          },
          "execution_count": 48
        }
      ]
    },
    {
      "cell_type": "markdown",
      "metadata": {
        "id": "dkOMBYHSUkZL"
      },
      "source": [
        "Change name"
      ]
    },
    {
      "cell_type": "code",
      "metadata": {
        "id": "PZ2LamKaUosm"
      },
      "source": [
        "DBBind = new_array"
      ],
      "execution_count": 52,
      "outputs": []
    },
    {
      "cell_type": "markdown",
      "metadata": {
        "id": "UhePr1zHUWWY"
      },
      "source": [
        "For now we added 0s to get the ligand sizes to all equal 800\n",
        "\n",
        "We then add on 0s to every protein AA sequence to get it to 2400 AA's. Also remove > sign and convert Ki to float"
      ]
    },
    {
      "cell_type": "code",
      "metadata": {
        "id": "2mV1e7V6UZgN"
      },
      "source": [
        "for x in range(len(DBBind[:,0])):\n",
        "  DBBind[x,0] = DBBind[x,0][::-1]\n",
        "  DBBind[x,0] = DBBind[x,0].zfill(100)       #fill ligand to 100\n",
        "  DBBind[x,0] = DBBind[x,0][::-1]\n",
        "  DBBind[x,1] = DBBind[x,1][::-1]\n",
        "  DBBind[x,1] = DBBind[x,1].zfill(1000)     #fill protein to 2400\n",
        "  DBBind[x,1] = DBBind[x,1][::-1]  "
      ],
      "execution_count": 53,
      "outputs": []
    },
    {
      "cell_type": "markdown",
      "metadata": {
        "id": "L33Flq-KVxXs"
      },
      "source": [
        "Turned array into dataframe"
      ]
    },
    {
      "cell_type": "code",
      "metadata": {
        "id": "UtO2_2_sUglA"
      },
      "source": [
        "curated_dataframe = pd.DataFrame(data=DBBind)"
      ],
      "execution_count": 54,
      "outputs": []
    },
    {
      "cell_type": "markdown",
      "metadata": {
        "id": "ptoaYPE_V0ya"
      },
      "source": [
        "Renamed columns"
      ]
    },
    {
      "cell_type": "code",
      "metadata": {
        "id": "l6tIk2Q9UzfS"
      },
      "source": [
        "curated_dataframe.columns = ['Small_Molecule', \"Proteinase\"]"
      ],
      "execution_count": 55,
      "outputs": []
    },
    {
      "cell_type": "markdown",
      "metadata": {
        "id": "PvCyUVMKV2ci"
      },
      "source": [
        "Convered dataframe into excel file"
      ]
    },
    {
      "cell_type": "code",
      "metadata": {
        "id": "fOM61uihU5Fu"
      },
      "source": [
        "curated_dataframe.to_excel(\"curated_df_for_testing.xlsx\")"
      ],
      "execution_count": 57,
      "outputs": []
    }
  ]
}